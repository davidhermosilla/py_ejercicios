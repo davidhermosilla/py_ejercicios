{
 "cells": [
  {
   "cell_type": "code",
   "execution_count": 42,
   "id": "43dd2c4b",
   "metadata": {},
   "outputs": [
    {
     "name": "stdout",
     "output_type": "stream",
     "text": [
      "25\n",
      "1.75\n",
      "True\n",
      "Ana\n"
     ]
    }
   ],
   "source": [
    "\n",
    "# Ejercicio tipos de datos en Python\n",
    "\n",
    "# 1. Variable de tipo entero (int) para almacenar la edad\n",
    "age = 25\n",
    "\n",
    "# 2. Variable de tipo flotante (float) para almacenar la altura en metros\n",
    "height = 1.75\n",
    "\n",
    "# 3. Variable de tipo booleano (bool) para indicar si soy estudiante o no\n",
    "is_student = True\n",
    "\n",
    "# 4. Variable de tipo cadena de texto (str) para almacenar el nombre\n",
    "name = \"Ana\"\n",
    "\n",
    "# Imprimimos cada variable en una línea separada\n",
    "print(age)\n",
    "print(height)\n",
    "print(is_student)\n",
    "print(name)"
   ]
  },
  {
   "cell_type": "code",
   "execution_count": 43,
   "id": "3007b0ae",
   "metadata": {},
   "outputs": [
    {
     "name": "stdout",
     "output_type": "stream",
     "text": [
      "Lista original: [10, 20, 30, 40, 50]\n",
      "Después de añadir 60: [10, 20, 30, 40, 50, 60]\n",
      "Después de insertar 15: [10, 15, 20, 30, 40, 50, 60]\n",
      "Después de eliminar 30: [10, 15, 20, 40, 50, 60]\n",
      "\n",
      "Resultados finales:\n",
      "Lista resultante: [10, 15, 20, 40, 50, 60]\n",
      "Suma de los números: 195\n",
      "Promedio de los números: 32.5\n"
     ]
    }
   ],
   "source": [
    "# Ejercicio de listas en Python\n",
    "\n",
    "# 1. Crear la lista con los valores iniciales\n",
    "numeros = [10, 20, 30, 40, 50]\n",
    "print(\"Lista original:\", numeros)\n",
    "\n",
    "# 2. Añadir el número 60 al final de la lista\n",
    "numeros.append(60)\n",
    "print(\"Después de añadir 60:\", numeros)\n",
    "\n",
    "# 3. Insertar el número 15 entre el 10 y el 20\n",
    "numeros.insert(1, 15)\n",
    "print(\"Después de insertar 15:\", numeros)\n",
    "\n",
    "# 4. Eliminar el número 30 de la lista\n",
    "numeros.remove(30)\n",
    "print(\"Después de eliminar 30:\", numeros)\n",
    "\n",
    "# 5. Calcular la suma de todos los números en la lista\n",
    "suma = sum(numeros)\n",
    "\n",
    "# 6. Calcular el promedio de los números en la lista\n",
    "promedio = suma / len(numeros)\n",
    "\n",
    "# Imprimir resultados finales\n",
    "print(\"\\nResultados finales:\")\n",
    "print(\"Lista resultante:\", numeros)\n",
    "print(\"Suma de los números:\", suma)\n",
    "print(\"Promedio de los números:\", promedio)"
   ]
  },
  {
   "cell_type": "code",
   "execution_count": 44,
   "id": "2437df07",
   "metadata": {},
   "outputs": [
    {
     "name": "stdout",
     "output_type": "stream",
     "text": [
      "Ana García\n",
      "ana@ejemplo.com\n",
      "555-1234\n",
      "\n",
      "Tupla contacto_completo:\n",
      "('Ana García', 'ana@ejemplo.com', '555-1234', 'Madrid')\n"
     ]
    }
   ],
   "source": [
    "# Ejercicio de tuplas en Python\n",
    "\n",
    "# 1. Crear la tupla contacto con la información requerida\n",
    "contacto = (\"Ana García\", \"ana@ejemplo.com\", \"555-1234\")\n",
    "\n",
    "# 2. Desempaquetar la tupla en tres variables\n",
    "nombre, email, telefono = contacto\n",
    "\n",
    "# 3. Imprimir cada variable en líneas separadas\n",
    "print(nombre)\n",
    "print(email)\n",
    "print(telefono)\n",
    "\n",
    "# 4. Crear una nueva tupla con los elementos originales más la ciudad \"Madrid\"\n",
    "contacto_completo = contacto + (\"Madrid\",)\n",
    "\n",
    "# Mostrar la nueva tupla para verificar\n",
    "print(\"\\nTupla contacto_completo:\")\n",
    "print(contacto_completo)"
   ]
  },
  {
   "cell_type": "code",
   "execution_count": 45,
   "id": "50ef7c49",
   "metadata": {},
   "outputs": [
    {
     "name": "stdout",
     "output_type": "stream",
     "text": [
      "{'persona1': {'nombre': 'Ana', 'telefono': '123456789', 'email': 'ana@ejemplo.com'}, 'persona2': {'nombre': 'David', 'telefono': '666666666', 'email': 'david@ejemplo.com'}, 'persona3': {'nombre': 'Juan', 'telefono': '777777777', 'email': 'juan@ejemplo.com'}}\n",
      "david@ejemplo.com\n",
      "{'persona1': {'nombre': 'Ana', 'telefono': '123456789', 'email': 'ana@ejemplo.com'}, 'persona2': {'nombre': 'David', 'telefono': '666666666', 'email': 'david@ejemplo.com'}, 'persona3': {'nombre': 'Juan', 'telefono': '777777777', 'email': 'juan@ejemplo.com'}, 'persona4': {'nombre': 'Manuel', 'telefono': '555555555', 'email': 'manuel@ejemplo.com'}}\n",
      "111111111\n",
      "Ana\n",
      "David\n",
      "Juan\n",
      "Manuel\n"
     ]
    }
   ],
   "source": [
    "contactos = {\n",
    "    \"persona1\": {\"nombre\": \"Ana\", \"telefono\": \"123456789\", \"email\": \"ana@ejemplo.com\"},\n",
    "    \"persona2\": {\"nombre\": \"David\", \"telefono\": \"666666666\", \"email\": \"david@ejemplo.com\"},\n",
    "    \"persona3\": {\"nombre\": \"Juan\", \"telefono\": \"777777777\", \"email\": \"juan@ejemplo.com\"}\n",
    "}\n",
    "\n",
    "print(contactos)\n",
    "\n",
    "print(contactos['persona2']['email'])\n",
    "persona4 = {\"nombre\": \"Manuel\", \"telefono\": \"555555555\", \"email\": \"manuel@ejemplo.com\"}\n",
    "\n",
    "contactos['persona4']=persona4\n",
    "\n",
    "print(contactos)\n",
    "\n",
    "contactos['persona1']['telefono'] ='111111111'\n",
    "\n",
    "print(contactos['persona1']['telefono'])\n",
    "\n",
    "for key in contactos.keys():\n",
    "    nombre = contactos.get(key).get('nombre')\n",
    "    print(nombre)"
   ]
  },
  {
   "cell_type": "code",
   "execution_count": 46,
   "id": "4fdb3076",
   "metadata": {},
   "outputs": [
    {
     "name": "stdout",
     "output_type": "stream",
     "text": [
      "{4, 5, 6}\n",
      "{1, 2, 3}\n",
      "{8, 9, 7}\n",
      "{1, 2, 3, 4, 5, 6, 7, 8, 9}\n"
     ]
    }
   ],
   "source": [
    "lista1 = [1, 2, 3, 4, 5, 6]\n",
    "lista2 = [4, 5, 6, 7, 8, 9]\n",
    "\n",
    "comunes = set(lista1) & set(lista2)\n",
    "print(comunes)\n",
    "\n",
    "soloLista1 = set(lista1) - set(lista2)\n",
    "print(soloLista1)\n",
    "\n",
    "soloLista2 = set(lista2) - set(lista1)\n",
    "print(soloLista2)\n",
    "\n",
    "union = set(lista1) | set(lista2)\n",
    "print(union)"
   ]
  },
  {
   "cell_type": "code",
   "execution_count": 47,
   "id": "fe4cf86a",
   "metadata": {},
   "outputs": [
    {
     "name": "stdout",
     "output_type": "stream",
     "text": [
      "['perro', 'gato']\n",
      "[]\n"
     ]
    },
    {
     "data": {
      "text/plain": [
       "defaultdict(<function __main__.<lambda>()>,\n",
       "            {'animales': defaultdict(list,\n",
       "                         {'mamíferos': ['perro', 'gato'],\n",
       "                          'reptiles': ['lagarto']}),\n",
       "             'plantas': defaultdict(list,\n",
       "                         {'árboles': ['roble'], 'flores': []})})"
      ]
     },
     "execution_count": 47,
     "metadata": {},
     "output_type": "execute_result"
    }
   ],
   "source": [
    "from collections import defaultdict\n",
    "\n",
    "# Árbol de categorías y subcategorías\n",
    "taxonomia = defaultdict(lambda: defaultdict(list))\n",
    "\n",
    "taxonomia[\"animales\"][\"mamíferos\"].append(\"perro\")\n",
    "taxonomia[\"animales\"][\"mamíferos\"].append(\"gato\")\n",
    "taxonomia[\"animales\"][\"reptiles\"].append(\"lagarto\")\n",
    "taxonomia[\"plantas\"][\"árboles\"].append(\"roble\")\n",
    "\n",
    "print(taxonomia[\"animales\"][\"mamíferos\"])  # ['perro', 'gato']\n",
    "print(taxonomia[\"plantas\"][\"flores\"])  # [] (lista vacía creada automáticamente)\n",
    "taxonomia"
   ]
  },
  {
   "cell_type": "code",
   "execution_count": 48,
   "id": "f084622b",
   "metadata": {},
   "outputs": [
    {
     "name": "stdout",
     "output_type": "stream",
     "text": [
      "Diccionario normal: 0.4658s\n",
      "defaultdict: 0.2976s\n",
      "Counter: 0.1272s\n"
     ]
    },
    {
     "data": {
      "text/plain": [
       "Counter({'a': 1000000, 'b': 500000, 'c': 250000})"
      ]
     },
     "execution_count": 48,
     "metadata": {},
     "output_type": "execute_result"
    }
   ],
   "source": [
    "import time\n",
    "from collections import defaultdict, Counter\n",
    "\n",
    "# Comparación de rendimiento para conteo\n",
    "lista = [\"a\"] * 1000000 + [\"b\"] * 500000 + [\"c\"] * 250000\n",
    "\n",
    "# Usando diccionario normal\n",
    "inicio = time.time()\n",
    "conteo_dict = {}\n",
    "for item in lista:\n",
    "    if item in conteo_dict:\n",
    "        conteo_dict[item] += 1\n",
    "    else:\n",
    "        conteo_dict[item] = 1\n",
    "tiempo_dict = time.time() - inicio\n",
    "\n",
    "# Usando defaultdict\n",
    "inicio = time.time()\n",
    "conteo_default = defaultdict(int)\n",
    "for item in lista:\n",
    "    conteo_default[item] += 1\n",
    "tiempo_default = time.time() - inicio\n",
    "\n",
    "# Usando Counter\n",
    "inicio = time.time()\n",
    "conteo_counter = Counter(lista)\n",
    "tiempo_counter = time.time() - inicio\n",
    "\n",
    "print(f\"Diccionario normal: {tiempo_dict:.4f}s\")\n",
    "print(f\"defaultdict: {tiempo_default:.4f}s\")\n",
    "print(f\"Counter: {tiempo_counter:.4f}s\")\n",
    "conteo_counter\n",
    "\n"
   ]
  },
  {
   "cell_type": "code",
   "execution_count": 49,
   "id": "16c45bc9",
   "metadata": {},
   "outputs": [
    {
     "name": "stdout",
     "output_type": "stream",
     "text": [
      "7577632587423526931\n",
      "42\n",
      "322818021289917443\n",
      "1\n",
      "529344067295497451\n"
     ]
    }
   ],
   "source": [
    "# Valores hash de diferentes tipos de datos\n",
    "print(hash(\"python\"))  # String\n",
    "print(hash(42))        # Entero\n",
    "print(hash(3.14))      # Flotante\n",
    "print(hash(True))      # Booleano\n",
    "print(hash((1, 2, 3))) # Tupla"
   ]
  },
  {
   "cell_type": "code",
   "execution_count": 50,
   "id": "5afdd919",
   "metadata": {},
   "outputs": [
    {
     "name": "stdout",
     "output_type": "stream",
     "text": [
      "parrafo_1: 'python' aparece 2 veces\n",
      "parrafo_2: 'python' aparece 1 veces\n",
      "parrafo_3: 'python' aparece 1 veces\n",
      "Palabras más comunes en total: [('python', 4), ('es', 2), ('de', 2)]\n"
     ]
    }
   ],
   "source": [
    "from collections import defaultdict, Counter\n",
    "\n",
    "# Análisis de texto por párrafos\n",
    "texto = [\n",
    "    \"Python es un lenguaje de programación. Python es versátil.\",\n",
    "    \"Los diccionarios son estructuras de datos en Python.\",\n",
    "    \"Python tiene una sintaxis clara y legible.\"\n",
    "]\n",
    "\n",
    "# Contar palabras por párrafo\n",
    "analisis = defaultdict(Counter)\n",
    "\n",
    "for i, parrafo in enumerate(texto):\n",
    "    palabras = parrafo.lower().replace(\".\", \"\").split()\n",
    "    analisis[f\"parrafo_{i+1}\"] = Counter(palabras)\n",
    "\n",
    "# Verificar frecuencia de \"python\" en cada párrafo\n",
    "for parrafo, contador in analisis.items():\n",
    "    print(f\"{parrafo}: 'python' aparece {contador['python']} veces\")\n",
    "\n",
    "# Combinar todos los contadores\n",
    "total = sum(analisis.values(), Counter())\n",
    "print(\"Palabras más comunes en total:\", total.most_common(3))\n"
   ]
  },
  {
   "cell_type": "code",
   "execution_count": 51,
   "id": "0ed86dd7",
   "metadata": {},
   "outputs": [
    {
     "name": "stdout",
     "output_type": "stream",
     "text": [
      "{'caracteres_mas_comunes': [('e', 4), ('o', 3), ('l', 2)], 'total_caracteres': 32, 'total_sin_espacios': 27}\n"
     ]
    }
   ],
   "source": [
    "from collections import Counter\n",
    "\n",
    "def analizar_texto(texto):   \n",
    "    longitud_texto=len(texto)\n",
    "    texto_sin_espacios = texto.replace(' ','')\n",
    "    conteo = Counter(texto_sin_espacios)\n",
    "    diccionario = dict()    \n",
    "    diccionario['caracteres_mas_comunes']=conteo.most_common(3)\n",
    "    diccionario['total_caracteres']=longitud_texto\n",
    "    diccionario['total_sin_espacios']=len(texto_sin_espacios)\n",
    "    return diccionario\n",
    "\n",
    "diccionario = analizar_texto(\"Hola, mundo! Este es un ejemplo.\")\n",
    "\n",
    "print(diccionario)"
   ]
  }
 ],
 "metadata": {
  "kernelspec": {
   "display_name": "base",
   "language": "python",
   "name": "python3"
  },
  "language_info": {
   "codemirror_mode": {
    "name": "ipython",
    "version": 3
   },
   "file_extension": ".py",
   "mimetype": "text/x-python",
   "name": "python",
   "nbconvert_exporter": "python",
   "pygments_lexer": "ipython3",
   "version": "3.13.5"
  }
 },
 "nbformat": 4,
 "nbformat_minor": 5
}
