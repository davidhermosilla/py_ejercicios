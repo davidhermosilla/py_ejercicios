{
 "cells": [
  {
   "cell_type": "code",
   "execution_count": 8,
   "id": "471e9b0f",
   "metadata": {},
   "outputs": [
    {
     "name": "stdout",
     "output_type": "stream",
     "text": [
      "La suma de 5 y 0 es: 5\n",
      "La resta de 5 y 0 es: 5\n",
      "La multiplicacion de 5 y 0 es: 0\n",
      "División por cero no permitida\n"
     ]
    }
   ],
   "source": [
    "x = input('Introduzca el valor de X: ')\n",
    "y = input('Introduzca el valor de Y: ')\n",
    "x=int(x)\n",
    "y=int(y)\n",
    "z = x+y\n",
    "print(f\"La suma de {x} y {y} es: {z}\")\n",
    "z = x-y\n",
    "print(f\"La resta de {x} y {y} es: {z}\")\n",
    "z = x*y\n",
    "print(f\"La multiplicacion de {x} y {y} es: {z}\")\n",
    "if (y == 0):\n",
    "    print(\"División por cero no permitida\")\n",
    "else:\n",
    "    z = x/y\n",
    "    print(f\"La división de {x} y {y} es: {z}\")"
   ]
  },
  {
   "cell_type": "code",
   "execution_count": 9,
   "id": "f240c7bf",
   "metadata": {},
   "outputs": [
    {
     "name": "stdout",
     "output_type": "stream",
     "text": [
      "Saliendo del programa...\n",
      "Comandos disponibles: salir, ayuda, sumar, restar\n",
      "Suma: 10\n",
      "Resta: 6\n",
      "Hola, Python!\n",
      "Comando no reconocido. Escribe 'ayuda' para ver los comandos disponibles.\n"
     ]
    }
   ],
   "source": [
    "def procesar_comando(comando):\n",
    "    match comando.split():\n",
    "        case [\"salir\"]:\n",
    "            return \"Saliendo del programa...\"\n",
    "        case [\"ayuda\"]:\n",
    "            return \"Comandos disponibles: salir, ayuda, sumar, restar\"\n",
    "        case [\"sumar\", *numeros]:\n",
    "            return f\"Suma: {sum(int(n) for n in numeros)}\"\n",
    "        case [\"restar\", a, b]:\n",
    "            return f\"Resta: {int(a) - int(b)}\"\n",
    "        case [\"hola\", nombre]:\n",
    "            return f\"Hola, {nombre}!\"\n",
    "        case _:\n",
    "            return \"Comando no reconocido. Escribe 'ayuda' para ver los comandos disponibles.\"\n",
    "\n",
    "print(procesar_comando(\"salir\"))              # Imprime: Saliendo del programa...\n",
    "print(procesar_comando(\"ayuda\"))              # Imprime: Comandos disponibles: salir, ayuda, sumar, restar\n",
    "print(procesar_comando(\"sumar 5 3 2\"))        # Imprime: Suma: 10\n",
    "print(procesar_comando(\"restar 10 4\"))        # Imprime: Resta: 6\n",
    "print(procesar_comando(\"hola Python\"))        # Imprime: Hola, Python!\n",
    "print(procesar_comando(\"comando desconocido\")) # Imprime: Comando no reconocido. Escribe 'ayuda' para ver los comandos disponibles."
   ]
  },
  {
   "cell_type": "code",
   "execution_count": 4,
   "id": "1ec2564f",
   "metadata": {},
   "outputs": [
    {
     "name": "stdout",
     "output_type": "stream",
     "text": [
      "Adulto mayor\n"
     ]
    }
   ],
   "source": [
    "edad = input(\"Inserte su edad:\")\n",
    "try:\n",
    "    edad = int(edad)\n",
    "    if edad < 0:\n",
    "        print(\"Edad no válida\")\n",
    "    elif 0 <= edad <= 12:\n",
    "        print(\"Infante\")\n",
    "    elif 13 <= edad <= 17:\n",
    "        print(\"Adolescente\")\n",
    "    elif 18 <= edad <= 64:\n",
    "        print(\"Adulto\")\n",
    "    else:\n",
    "        print(\"Adulto mayor\")\n",
    "\n",
    "except:\n",
    "    print(\"Edad introducidad invalidad tienes que ser un valor entero positivo\")"
   ]
  },
  {
   "cell_type": "code",
   "execution_count": 8,
   "id": "f0c0f07c",
   "metadata": {},
   "outputs": [
    {
     "name": "stdout",
     "output_type": "stream",
     "text": [
      "30\n",
      "50\n"
     ]
    }
   ],
   "source": [
    "def suma_pares(inicio,fin):\n",
    "    numeros=0\n",
    "    for numero in range(inicio,fin):\n",
    "        par = True if numero % 2 == 0 else False    \n",
    "        if par:\n",
    "            numeros += numero\n",
    "    finespar = True if fin % 2 == 0 else False\n",
    "    return numeros+fin if finespar else numeros\n",
    "\n",
    "print (suma_pares(1,10))\n",
    "print (suma_pares(5,15))\n",
    "\n"
   ]
  },
  {
   "cell_type": "code",
   "execution_count": null,
   "id": "e1f44f8f",
   "metadata": {},
   "outputs": [],
   "source": [
    "suma = 0\n",
    "numerosvalidos = 0\n",
    "while suma <= 100:\n",
    "    while True:\n",
    "        try:\n",
    "            valor = int(input(\"Introduzca un entero positivo\"))\n",
    "            if (valor < 0):\n",
    "                print(\"Error, debe introducir un numero entero positivo\")\n",
    "                continue\n",
    "            numerosvalidos += 1\n",
    "            suma += valor\n",
    "            print(\"Suma es:\",suma)\n",
    "            break\n",
    "        except:\n",
    "            print(\"Error, debe introducir un numero entero positivo\")\n",
    "            continue\n",
    "else:\n",
    "    print(\"Suma final es:\",suma)\n",
    "    print(numerosvalidos,\" numeros validos fueron introducidos\")\n"
   ]
  }
 ],
 "metadata": {
  "kernelspec": {
   "display_name": "base",
   "language": "python",
   "name": "python3"
  },
  "language_info": {
   "codemirror_mode": {
    "name": "ipython",
    "version": 3
   },
   "file_extension": ".py",
   "mimetype": "text/x-python",
   "name": "python",
   "nbconvert_exporter": "python",
   "pygments_lexer": "ipython3",
   "version": "3.13.5"
  }
 },
 "nbformat": 4,
 "nbformat_minor": 5
}
